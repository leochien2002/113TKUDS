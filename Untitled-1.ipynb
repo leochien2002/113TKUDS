{
 "cells": [
  {
   "cell_type": "code",
   "execution_count": null,
   "metadata": {},
   "outputs": [],
   "source": [
    "public class hello {\n",
    "    public static void main(String[] args){\n",
    "        System.out.println(\"Hello,World\");\n",
    "    }\n",
    "}"
   ]
  }
 ],
 "metadata": {
  "language_info": {
   "name": "python"
  }
 },
 "nbformat": 4,
 "nbformat_minor": 2
}
